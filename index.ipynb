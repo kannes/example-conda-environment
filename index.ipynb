{
 "cells": [
  {
   "cell_type": "code",
   "execution_count": null,
   "metadata": {
    "collapsed": true
   },
   "outputs": [],
   "source": [
    "from shapely.geometry import *\n",
    "from math import sin, cos, radians\n",
    "import time"
   ]
  },
  {
   "cell_type": "code",
   "execution_count": null,
   "metadata": {
    "collapsed": true
   },
   "outputs": [],
   "source": [
    "def point_bydistanceandangle(p0, distance, angle):\n",
    "    # angle in degrees please\n",
    "    x = p0.x + distance * cos(radians(angle))\n",
    "    y = p0.y + distance * sin(radians(angle))\n",
    "    \n",
    "    return Point(x, y)"
   ]
  },
  {
   "cell_type": "code",
   "execution_count": null,
   "metadata": {
    "collapsed": true
   },
   "outputs": [],
   "source": [
    "def clock():\n",
    "    _, _, _, h, m, s, _, _, _ = time.localtime()\n",
    "    print(\"{:02d}:{:02d}:{:02d}\".format(h, m, s))\n",
    "    \n",
    "    #angle 90 is 12 o clock here\n",
    "    angle_h = - h/12*360 + 90\n",
    "    angle_m = - m/60*360 + 90\n",
    "    angle_s = - s/60*360 + 90\n",
    "    \n",
    "    center = Point(0, 0)\n",
    "    radius = 1\n",
    "    face = center.buffer(radius)\n",
    "    \n",
    "    arm_h = LineString((center, point_bydistanceandangle(center, radius/2,   angle_h)))\n",
    "    arm_m = LineString((center, point_bydistanceandangle(center, radius/1.5, angle_m)))\n",
    "    arm_s = LineString((center, point_bydistanceandangle(center, radius/1,   angle_s)))\n",
    "    return GeometryCollection((\n",
    "        face,\n",
    "        center,\n",
    "        arm_h,\n",
    "        arm_m,\n",
    "        arm_s\n",
    "    ))"
   ]
  },
  {
   "cell_type": "code",
   "execution_count": null,
   "metadata": {},
   "outputs": [],
   "source": [
    "from IPython import display\n",
    "from ipywidgets import Button\n",
    "\n",
    "while True:\n",
    "    # Danke an https://twitter.com/__phree__/status/844202341087764482 für den Tip!\n",
    "    display.clear_output(wait=True) \n",
    "    display.display(clock())\n",
    "    time.sleep(1)"
   ]
  }
 ],
 "metadata": {
  "kernelspec": {
   "display_name": "Python 3",
   "language": "python",
   "name": "python3"
  },
  "language_info": {
   "codemirror_mode": {
    "name": "ipython",
    "version": 3
   },
   "file_extension": ".py",
   "mimetype": "text/x-python",
   "name": "python",
   "nbconvert_exporter": "python",
   "pygments_lexer": "ipython3",
   "version": "3.6.1"
  }
 },
 "nbformat": 4,
 "nbformat_minor": 1
}
